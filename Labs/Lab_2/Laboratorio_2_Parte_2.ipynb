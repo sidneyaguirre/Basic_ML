{
 "cells": [
  {
   "cell_type": "markdown",
   "metadata": {},
   "source": [
    "# Laboratorio 2 - Parte 2\n",
    "\n",
    "### Modelos no paramétricos\n",
    "\n",
    "### 2018-II\n",
    "\n",
    "#### Profesor: Julián D. Arias Londoño\n",
    "#### julian.ariasl@udea.edu.co\n"
   ]
  },
  {
   "cell_type": "markdown",
   "metadata": {},
   "source": [
    "## Guía del laboratorio\n",
    "\n",
    "En esta archivo va a encontrar tanto celdas de código cómo celdas de texto con las instrucciones para desarrollar el laboratorio.\n",
    "\n",
    "Lea atentamente las instrucciones entregadas en las celdas de texto correspondientes y proceda con la solución de las preguntas planteadas.\n",
    "\n",
    "Nota: no olvide ir ejecutando las celdas de código de arriba hacia abajo para que no tenga errores de importación de librerías o por falta de definición de variables."
   ]
  },
  {
   "cell_type": "code",
   "execution_count": 23,
   "metadata": {},
   "outputs": [
    {
     "name": "stdout",
     "output_type": "stream",
     "text": [
      "Haga click en el siguiente enlace para autenticarse con su cuenta de correo institucional\n",
      "https://accounts.google.com/o/oauth2/auth?client_id=893762525034-g9d91ddls9e19a1q77c7hsq2rhgqo9h7.apps.googleusercontent.com&redirect_uri=http%3A%2F%2Flocalhost%3A8080&scope=profile+email&access_type=offline&response_type=code\n",
      "waiting for authentication ...\n",
      "authentication succeeded\n",
      "/?code=4/TwAJJzigu8ALFmzfFKuXJt7y75Aic8yo-0j1Zz_r73qaAeOeTKgCw4h9AEKPaMaHahs8cnQDHjFwhi0ZEaLiFag\n"
     ]
    },
    {
     "name": "stderr",
     "output_type": "stream",
     "text": [
      "C:\\Users\\johng\\Anaconda3\\lib\\site-packages\\oauth2client\\_helpers.py:133: ResourceWarning: unclosed <ssl.SSLSocket fd=1228, family=AddressFamily.AF_INET, type=SocketKind.SOCK_STREAM, proto=0, laddr=('192.168.2.79', 50850), raddr=('172.217.28.109', 443)>\n",
      "  return wrapped(*args, **kwargs)\n"
     ]
    },
    {
     "data": {
      "text/html": [
       "<table><tr><td><img src='https://lh6.googleusercontent.com/-IyRKvwiEzoA/AAAAAAAAAAI/AAAAAAAAAR8/PajfzVE6cNw/photo.jpg' width=60 height=60/></td><td>johna.galeano@udea.edu.co<br/>JOHN   ALEXÁNDER GALEANO OSPINA<br/>google id: 111882263615850761169<br/></td></tr></table>"
      ],
      "text/plain": [
       "<IPython.core.display.HTML object>"
      ]
     },
     "execution_count": 23,
     "metadata": {},
     "output_type": "execute_result"
    }
   ],
   "source": [
    "#Tomado de https://github.com/rramosp/mooc-grader\n",
    "from Autentication import *#python 3\n",
    "import inspect, urllib\n",
    "html, auth_code, userinfo = google_authenticate(PORT_NUMBER=8080)\n",
    "html"
   ]
  },
  {
   "cell_type": "markdown",
   "metadata": {},
   "source": [
    "#### Segundo integrante: Sidney Paola Aguirre Castro"
   ]
  },
  {
   "cell_type": "code",
   "execution_count": 1,
   "metadata": {},
   "outputs": [],
   "source": [
    "%matplotlib inline\n",
    "import numpy as np\n",
    "import scipy as sc\n",
    "import matplotlib.pyplot as plt\n",
    "from __future__ import division\n",
    "\n",
    "#Algunas advertencias que queremos evitar\n",
    "import warnings\n",
    "warnings.filterwarnings(\"always\")"
   ]
  },
  {
   "cell_type": "markdown",
   "metadata": {},
   "source": [
    "## Ejercicio 1\n",
    "\n",
    "Para el problema de clasificación usaremos la base de datos iris, que cargaremos desde la librería sklearn. Responda las siguientes preguntas:"
   ]
  },
  {
   "cell_type": "code",
   "execution_count": 3,
   "metadata": {},
   "outputs": [],
   "source": [
    "#cargamos la bd iris desde el dataset de sklearn\n",
    "from sklearn import datasets\n",
    "\n",
    "iris = datasets.load_iris()\n",
    "\n",
    "#Esta es la base de datos Iris del UCI Machine Learning Repository \n",
    "#https://archive.ics.uci.edu/ml/datasets/iris\n",
    "\n",
    "X, Y = iris.data, iris.target"
   ]
  },
  {
   "cell_type": "code",
   "execution_count": 4,
   "metadata": {},
   "outputs": [
    {
     "name": "stdout",
     "output_type": "stream",
     "text": [
      "Hay 3 clases\n",
      "Hay 150 muestras\n",
      "Hay 4 caracteristicas\n",
      "Hay (array([0, 1, 2]), array([50, 50, 50], dtype=int64))Muestras x clase \n"
     ]
    }
   ],
   "source": [
    "xuni = np.unique(X)\n",
    "clases= np.unique(Y)\n",
    "Nc = len(clases)\n",
    "print('Hay ' + str(Nc) + ' clases' )\n",
    "tamx = np.size(X[:,1])\n",
    "print('Hay ' + str(tamx) + ' muestras')\n",
    "\n",
    "tamy = np.size(X[1,:])\n",
    "print('Hay ' + str(tamy) + ' caracteristicas')\n",
    "tmxc = np.unique(Y, return_counts=True)\n",
    "print('Hay ' + str(tmxc) +\"Muestras x clase \", )"
   ]
  },
  {
   "cell_type": "markdown",
   "metadata": {},
   "source": [
    "1.1 ¿Cu&aacute;ntas clases tiene el problema?:\n",
    "R: Se presentan 3 clases\n",
    "\n",
    "1.2 ¿Cu&aacute;ntas caracter&iacute;sticas tiene el problema?:\n",
    "R: Se presentan 4 características\n",
    "\n",
    "1.3 ¿Cu&aacute;ntas muestras tiene el problema?:\n",
    "R: Se presentan 150 muestras\n",
    "\n",
    "1.4 ¿Cu&aacute;ntas muestras por cada clase hay en la base de datos?:\n",
    "R: Se presentan 50 muestras por cada clase\n",
    "\n",
    "<b>Nota</b>: Agregue una celda con el código usado para responder cada una de las preguntas anteriores."
   ]
  },
  {
   "cell_type": "markdown",
   "metadata": {},
   "source": [
    "## Ejercicio 2\n",
    "\n",
    "Analice los siguientes métodos a la luz de la teoría vista para los modelos de K vecinos más cercanos (KNN) y complete el código del método KNN.\n",
    "\n",
    "<b>Nota</b>: Para el cáculo de la distancia entre vectores tienen dos opciones, usar la función scipy.spatial.distance.euclidean o usar la función numpy.linalg.norm. <b>Revisen la documentación </b> para comprender su uso. También serán de utilidad las funciones numpy.sort y numpy.argsort."
   ]
  },
  {
   "cell_type": "code",
   "execution_count": 5,
   "metadata": {},
   "outputs": [],
   "source": [
    "from scipy.stats import mode\n",
    "import operator\n",
    "\n",
    "#Para calcular el error en los problemas de clasificación\n",
    "def ErrorClas(Y_lest, Y):\n",
    "    error = 1 - np.sum(Y_lest == Y)/len(Y)\n",
    "    \n",
    "    return error\n",
    "\n",
    "def distance(X_val, X_train):\n",
    "    \n",
    "    MdotXY = np.dot(X_val, X_train.T)\n",
    "    #sumatoria de cada muestras al cudrado de la matriz de validación\n",
    "    sumxv = np.sum(X_val * X_val, axis=1).reshape([X_val.shape[0],1])\n",
    "    #sumatoria de cada muestras al cudrado de la matriz de entrenamiento\n",
    "    sumxt = np.sum(X_train * X_train, axis=1).reshape([1,X_train.shape[0]])\n",
    "    \n",
    "    D = np.dot(sumxv, np.ones((1,X_train.shape[0]))) + np.dot(np.ones((X_val.shape[0],1)), sumxt) - 2* MdotXY\n",
    "    D = np.sqrt(D)\n",
    "    \n",
    "    return D\n",
    "\n",
    "# Retorna las salidas Y[i] de la Matriz que contiene la matriz los posiciones de las distancias mas cercanas a la muestra nueva\n",
    "def neighborhood (k, D_argsort, Y_train):\n",
    "    N = len(D_argsort)    \n",
    "    kn = D_argsort[ : , 0: k]\n",
    "    kn = kn.reshape(len(D_argsort),k)\n",
    "    Y_val = np.zeros((N,k))\n",
    "\n",
    "    for x in range (N):\n",
    "        for y in range (k):\n",
    "               Y_val[x][y] = Y_train[kn[x,y]]\n",
    "    \n",
    "    return Y_val\n",
    "\n",
    "def KNN(X_train, Y_train, X_val, k, tipo):\n",
    "    \n",
    "    #X_train es la matriz con las muestras de entrenamiento\n",
    "    #Y_train es un vector con los valores de salida pra cada una de las muestras de entrenamiento\n",
    "    #X_val es la matriz con las muestras de validación\n",
    "    #tipo es una bandera que indica si el problema es de regresión o de clasificación.\n",
    "    tipo = tipo\n",
    "    k = k    #Parámetro k que equivale al número de vecinos a tener en cuenta para resolver el problema de\n",
    "               #predicción de la variable de salida\n",
    "    \n",
    "    N = np.shape(Y_train)[0]\n",
    "    Y_val = np.zeros(N).reshape(N,1)\n",
    "    Y_train = Y_train.reshape(N,1)\n",
    "    \n",
    "    D = distance(X_val, X_train)\n",
    "    D_argsort = np.argsort(D, axis = 1)\n",
    "    \n",
    "    LXv = len(X_val)\n",
    "    \n",
    "    Y_argsort = neighborhood(k, D_argsort, Y_train)\n",
    "\n",
    "    Y_val = np.zeros(LXv).T\n",
    "    \n",
    "\n",
    "    if(tipo == 'regression'):\n",
    "        #regresion\n",
    "        for x in range (Nt):\n",
    "            average = np.average(Y_argsort[x])\n",
    "            Y_val[x] = average\n",
    "            \n",
    "    elif(tipo == 'classification'):\n",
    "        #clasificacion\n",
    "        \n",
    "        for x in range (LXv):\n",
    "            mode = stats.mode(Y_argsort[x])           \n",
    "            Y_val[x] = mode[0].astype(float)\n",
    "            \n",
    "    Y_val.reshape(LXv,1)\n",
    "    \n",
    "    return Y_val#Debe retornar un vector que contenga las predicciones para cada una de las muestras en X_val, en el mismo orden.  \n"
   ]
  },
  {
   "cell_type": "markdown",
   "metadata": {},
   "source": [
    "## Ejercicio 3\n",
    "\n",
    "Una vez haya completado el codigo del método de KNN, ejecute varias veces el proceso de entrenamiento y evaluacion cambiando el parametro $k$, el cual es el numero de vecinos, y complete la siguiente tabla con los valores del error de clasificación obtenidos:"
   ]
  },
  {
   "cell_type": "code",
   "execution_count": 7,
   "metadata": {},
   "outputs": [
    {
     "name": "stdout",
     "output_type": "stream",
     "text": [
      "\n",
      "Error durante la prueba = 0.26973684210526316+-0.08802031684381349\n"
     ]
    }
   ],
   "source": [
    "from numpy import random\n",
    "from sklearn.model_selection import train_test_split\n",
    "import math\n",
    "from scipy import stats\n",
    "\n",
    "#numero de vecinos a calcular\n",
    "vecinos = 2\n",
    "tipo = 'classification'\n",
    "\n",
    "N = np.size(X,0)\n",
    "\n",
    "#Validamos el modelo\n",
    "random.seed(1)\n",
    "Error = np.zeros(4)\n",
    "for j in range(4):\n",
    "    \n",
    "    Xtrain, Xtest, Ytrain, Ytest = train_test_split(X, Y, test_size=0.25)\n",
    "\n",
    "    #Normalizamos los datos\n",
    "    media = np.mean(Xtrain)\n",
    "    desvia = np.std(Xtrain)\n",
    "    Xtrain = sc.stats.stats.zscore(Xtrain)\n",
    "    Xtest = (Xtest - np.matlib.repmat(media, Xtest.shape[0], 1))/np.matlib.repmat(desvia, Xtest.shape[0], 1)\n",
    "\n",
    "    Yest = KNN(Xtrain, Ytrain, Xtest, vecinos, tipo)#Complete con el llamado apropiado de la función que Uds diseñaron\n",
    "    \n",
    "    #Evaluamos las predicciones del modelo con los datos de test\n",
    "    Error[j] = ErrorClas(Yest,Ytest)\n",
    "print('\\nError durante la prueba = ' + str(np.mean(Error)) + '+-' + str(np.std(Error)))"
   ]
  },
  {
   "cell_type": "code",
   "execution_count": 8,
   "metadata": {},
   "outputs": [
    {
     "name": "stdout",
     "output_type": "stream",
     "text": [
      "[0 1 2]\n",
      "Muestras entrenamiento  (112, 4)\n",
      "Muestras para validación  (38, 4)\n",
      "Hay 38 muestras de validacion\n"
     ]
    }
   ],
   "source": [
    "xTuni = np.unique(Xtrain)\n",
    "xTestuni= np.unique(Xtest)\n",
    "print(clases)\n",
    "tamx = np.size(Xtrain)\n",
    "#print('Hay ' + str(tamx) + ' muestras entrenamiento')\n",
    "\n",
    "tamy = np.size(Xtest)\n",
    "#print('Hay ' + str(tamy) + ' muestras de validacion')\n",
    "\n",
    "print(\"Muestras entrenamiento \",Xtrain.shape)\n",
    "print(\"Muestras para validación \",Xtest.shape)\n",
    "\n",
    "Lx = Xtest.shape[0]\n",
    "print('Hay ' + str(Lx) + ' muestras de validacion')"
   ]
  },
  {
   "cell_type": "markdown",
   "metadata": {},
   "source": [
    "Responda:\n",
    "\n",
    "3.1 ¿Qué metodología de validación se usa en el experimento?\n",
    "R:La metodología de validación es validación cruzada, ya que en este caso, se divide el total de muestras en 4 subconjuntos (folds).\n",
    "\n",
    "3.2 ¿Cuántas muestras se usan para el entrenamiento?\n",
    "R: 112 muestras para el entrenamiento\n",
    "\n",
    "3.3 ¿Cuántas muestras se usan para la validación?\n",
    "R: 38 muestras para la validación"
   ]
  },
  {
   "cell_type": "markdown",
   "metadata": {},
   "source": [
    "#### Tabla de resultados"
   ]
  },
  {
   "cell_type": "code",
   "execution_count": 2,
   "metadata": {},
   "outputs": [
    {
     "data": {
      "application/vnd.jupyter.widget-view+json": {
       "model_id": "d4e20c9967ee4e5790536597952a6787",
       "version_major": 2,
       "version_minor": 0
      },
      "text/plain": [
       "QgridWidget(grid_options={'fullWidthRows': True, 'syncColumnCellResize': True, 'forceFitColumns': True, 'defau…"
      ]
     },
     "metadata": {},
     "output_type": "display_data"
    }
   ],
   "source": [
    "import numpy as np\n",
    "%matplotlib inline\n",
    "import pandas as pd\n",
    "import qgrid\n",
    "randn = np.random.randn\n",
    "df_types = pd.DataFrame({\n",
    "    'Numero de vecinos' : pd.Series(['1', '2', '3', '4', '5', '6', '7'])})\n",
    "df_types[\"Error_Prueba\"] = \"\"\n",
    "df_types[\"Desviación estándar del error\"] = \"\"\n",
    "df_types.set_index(['Numero de vecinos'], inplace=True)\n",
    "df_types[\"Error_Prueba\"][1] = \"0.2697\"\n",
    "df_types[\"Desviación estándar del error\"][1] = \"0.088\"\n",
    "#df_types.sort_index(inplace=True)\n",
    "qgrid_widget = qgrid.show_grid(df_types, show_toolbar=False)\n",
    "qgrid_widget"
   ]
  },
  {
   "cell_type": "markdown",
   "metadata": {},
   "source": [
    "Ejecute la siguiente instrucción para dejar guardados en el notebook los resultados de las pruebas."
   ]
  },
  {
   "cell_type": "code",
   "execution_count": 20,
   "metadata": {},
   "outputs": [
    {
     "data": {
      "text/html": [
       "<div>\n",
       "<style scoped>\n",
       "    .dataframe tbody tr th:only-of-type {\n",
       "        vertical-align: middle;\n",
       "    }\n",
       "\n",
       "    .dataframe tbody tr th {\n",
       "        vertical-align: top;\n",
       "    }\n",
       "\n",
       "    .dataframe thead th {\n",
       "        text-align: right;\n",
       "    }\n",
       "</style>\n",
       "<table border=\"1\" class=\"dataframe\">\n",
       "  <thead>\n",
       "    <tr style=\"text-align: right;\">\n",
       "      <th></th>\n",
       "      <th>Error_Prueba</th>\n",
       "      <th>Desviación estándar del error</th>\n",
       "    </tr>\n",
       "    <tr>\n",
       "      <th>Numero de vecinos</th>\n",
       "      <th></th>\n",
       "      <th></th>\n",
       "    </tr>\n",
       "  </thead>\n",
       "  <tbody>\n",
       "    <tr>\n",
       "      <th>1</th>\n",
       "      <td>0.2039</td>\n",
       "      <td>0.1137</td>\n",
       "    </tr>\n",
       "    <tr>\n",
       "      <th>2</th>\n",
       "      <td>0.2697</td>\n",
       "      <td>0.0880</td>\n",
       "    </tr>\n",
       "    <tr>\n",
       "      <th>3</th>\n",
       "      <td>0.2697</td>\n",
       "      <td>0.086</td>\n",
       "    </tr>\n",
       "    <tr>\n",
       "      <th>4</th>\n",
       "      <td>0.2763</td>\n",
       "      <td>0.0842</td>\n",
       "    </tr>\n",
       "    <tr>\n",
       "      <th>5</th>\n",
       "      <td>0.2631</td>\n",
       "      <td>0.0930</td>\n",
       "    </tr>\n",
       "    <tr>\n",
       "      <th>6</th>\n",
       "      <td>0.2763</td>\n",
       "      <td>0.0842</td>\n",
       "    </tr>\n",
       "    <tr>\n",
       "      <th>7</th>\n",
       "      <td>0.2697</td>\n",
       "      <td>0.0880</td>\n",
       "    </tr>\n",
       "  </tbody>\n",
       "</table>\n",
       "</div>"
      ],
      "text/plain": [
       "                  Error_Prueba Desviación estándar del error\n",
       "Numero de vecinos                                           \n",
       "1                       0.2039                        0.1137\n",
       "2                       0.2697                        0.0880\n",
       "3                       0.2697                         0.086\n",
       "4                       0.2763                        0.0842\n",
       "5                       0.2631                        0.0930\n",
       "6                       0.2763                        0.0842\n",
       "7                       0.2697                        0.0880"
      ]
     },
     "execution_count": 20,
     "metadata": {},
     "output_type": "execute_result"
    }
   ],
   "source": [
    "qgrid_widget.get_changed_df()"
   ]
  },
  {
   "cell_type": "code",
   "execution_count": null,
   "metadata": {},
   "outputs": [],
   "source": [
    "#1\t0.2039\t+-0.1137\n",
    "2\t0.2697\t+-0.088\n",
    "3\t0.2697\t+-0.086\n",
    "4\t0.2763\t+-0.0842\n",
    "5\t0.2631\t+-0.093\n",
    "6\t0.2763\t+-0.0842\n",
    "7\t0.2697\t+-0.0880\n"
   ]
  },
  {
   "cell_type": "markdown",
   "metadata": {},
   "source": [
    "## Ejercicio 4\n",
    "\n",
    "A continuación debe completar el código del método parzen para resolver problemas de clasificación con el modelo ventana de Parzen."
   ]
  },
  {
   "cell_type": "code",
   "execution_count": 10,
   "metadata": {},
   "outputs": [],
   "source": [
    "#Calcula el kernel gaussiano de x\n",
    "\n",
    "def ParzenClass(X_train, Y_train, X_val, H):\n",
    "    # Designamos el tamaño para las nuevas muestras \n",
    "    #Aqui intentamos generalizar el codigo para N-clases\n",
    "    Lx = X_val.shape[0]\n",
    "    Yest = np.zeros(Lx)\n",
    "    h = H\n",
    "\n",
    "    # N CLASES\n",
    "    class0 = X_train[Y_train == 0]\n",
    "    class1 = X_train[Y_train == 1]\n",
    "    class2 = X_train[Y_train == 2]\n",
    "    #Creamos los vectores de ceros\n",
    "    z0= np.zeros(Lx)\n",
    "    z1= np.zeros(Lx)   \n",
    "    z2= np.zeros(Lx)\n",
    "  \n",
    "    \n",
    "    for i in range(Lx):        \n",
    "        z0[i] = ParzenWindow(X_val[i],class0, h)\n",
    "        z1[i] = ParzenWindow(X_val[i],class1, h)\n",
    "        z2[i] = ParzenWindow(X_val[i],class2, h)        \n",
    "        z = np.array([z0[i], z1[i], z2[i]])\n",
    "        classM = np.argmax(z)\n",
    "        Yest[i] = classM   \n",
    "    return Yest#Debe retornar un vector que contenga las predicciones para cada una de las muestras en X_val, en el mismo orden.  \n",
    "\n",
    "def ParzenWindow(x,Data,h):\n",
    "    h = h\n",
    "    Ns = Data.shape[0]\n",
    "    suma = 0\n",
    "    for k in range(Ns):\n",
    "        u = sc.spatial.distance.euclidean(x,Data[k,:])\n",
    "        suma += kernel_gaussiano(u/h)\n",
    "    return suma\n",
    "\n",
    "def kernel_gaussiano(x):\n",
    "    return np.exp((-0.5)*x**2)"
   ]
  },
  {
   "cell_type": "markdown",
   "metadata": {},
   "source": [
    "## Ejercicio 5\n",
    "\n",
    "Ahora debe resolver el mismo problema de clasificación con el método ventana de Parzen. Complete el código ejecute las pruebas para diferentes valores de $h$ y llene la siguiente tabla:"
   ]
  },
  {
   "cell_type": "code",
   "execution_count": 11,
   "metadata": {},
   "outputs": [
    {
     "name": "stdout",
     "output_type": "stream",
     "text": [
      "\n",
      "Error durante la prueba = 0.2216880341880342+-0.04696907336459245\n"
     ]
    }
   ],
   "source": [
    "from numpy import random\n",
    "from sklearn.model_selection import StratifiedKFold\n",
    "import math\n",
    "#valor del ancho de h\n",
    "H = 10\n",
    "#Validamos el modelo\n",
    "random.seed(1)\n",
    "Error = np.zeros(4)\n",
    "skf = StratifiedKFold(n_splits=4)\n",
    "j = 0\n",
    "for train, test in skf.split(X, Y):\n",
    "    Xtrain = X[train,:]\n",
    "    Ytrain = Y[train]\n",
    "    Xtest = X[test,:]\n",
    "    Ytest = Y[test]\n",
    "    #Normalizamos los datos\n",
    "    media = np.mean(Xtrain)\n",
    "    desvia = np.std(Xtrain)\n",
    "    Xtrain = sc.stats.stats.zscore(Xtrain)\n",
    "    Xtest = (Xtest - np.matlib.repmat(media, Xtest.shape[0], 1))/np.matlib.repmat(desvia, Xtest.shape[0], 1)\n",
    "\n",
    "    Yest = ParzenClass(Xtrain, Ytrain, Xtest,H)#Complete con el llamado apropiado de la función que Uds diseñaron\n",
    "  \n",
    "    #Evaluamos las predicciones del modelo con los datos de test\n",
    "    Error[j] = ErrorClas(Yest,Ytest)\n",
    "    j += 1\n",
    "print('\\nError durante la prueba = ' + str(np.mean(Error)) + '+-' + str(np.std(Error)))"
   ]
  },
  {
   "cell_type": "code",
   "execution_count": 12,
   "metadata": {},
   "outputs": [
    {
     "name": "stdout",
     "output_type": "stream",
     "text": [
      "[0 1 2]\n",
      "Muestras entrenamiento  (114, 4)\n",
      "Muestras para validación  (36, 4)\n"
     ]
    }
   ],
   "source": [
    "xTuni = np.unique(Xtrain)\n",
    "xTestuni= np.unique(Xtest)\n",
    "print(clases)\n",
    "tamx = np.size(Xtrain)\n",
    "#print('Hay ' + str(tamx) + ' muestras entrenamiento')\n",
    "\n",
    "tamy = np.size(Xtest)\n",
    "#print('Hay ' + str(tamy) + ' muestras de validacion')\n",
    "\n",
    "print(\"Muestras entrenamiento \",Xtrain.shape)\n",
    "print(\"Muestras para validación \",Xtest.shape)\n"
   ]
  },
  {
   "cell_type": "markdown",
   "metadata": {},
   "source": [
    "Responda:\n",
    "    \n",
    "5.1 ¿Qué metodología de validación se usó en la simulación?:\n",
    "R: Validación cruzada estratificada con 4 particiones, con esto se garantiza que las particiones aleatorias contenga proporción de valores de cada una de las 4 categoría\n",
    "\n",
    "5.2 ¿Cuántas muestras se usan para el entrenamiento?:\n",
    "R: 114 muestras para el entrenamiento\n",
    "\n",
    "5.3 ¿Cuántas muestras se usan para la validación?:\n",
    "R: 36 muestras para la validación"
   ]
  },
  {
   "cell_type": "markdown",
   "metadata": {},
   "source": [
    "#### Tabla de resultados"
   ]
  },
  {
   "cell_type": "code",
   "execution_count": 21,
   "metadata": {},
   "outputs": [
    {
     "data": {
      "application/vnd.jupyter.widget-view+json": {
       "model_id": "bc9cfa0ecd8f4acb9edba05b7aecb4a8",
       "version_major": 2,
       "version_minor": 0
      },
      "text/plain": [
       "QgridWidget(grid_options={'fullWidthRows': True, 'syncColumnCellResize': True, 'forceFitColumns': True, 'defau…"
      ]
     },
     "metadata": {},
     "output_type": "display_data"
    }
   ],
   "source": [
    "import pandas as pd\n",
    "import qgrid\n",
    "randn = np.random.randn\n",
    "df_types2 = pd.DataFrame({\n",
    "    'Tamano de ventana' : pd.Series(['0.05', '0.1', '0.5', '1', '2', '5', '10'])})\n",
    "df_types2[\"Error_Prueba\"] = \"\"\n",
    "df_types2[\"Desviación estándar del error\"] = \"\"\n",
    "df_types2.set_index(['Tamano de ventana'], inplace=True)\n",
    "df_types2[\"Error_Prueba\"][1] = \"0.222\"\n",
    "df_types2[\"Desviación estándar del error\"][1] = \"0.043\"\n",
    "#df_types.sort_index(inplace=True)\n",
    "qgrid_widget = qgrid.show_grid(df_types2, show_toolbar=False)\n",
    "qgrid_widget"
   ]
  },
  {
   "cell_type": "markdown",
   "metadata": {},
   "source": [
    "Ejecute la siguiente instrucción para dejar guardados en el notebook los resultados de las pruebas."
   ]
  },
  {
   "cell_type": "code",
   "execution_count": 22,
   "metadata": {},
   "outputs": [
    {
     "data": {
      "text/html": [
       "<div>\n",
       "<style scoped>\n",
       "    .dataframe tbody tr th:only-of-type {\n",
       "        vertical-align: middle;\n",
       "    }\n",
       "\n",
       "    .dataframe tbody tr th {\n",
       "        vertical-align: top;\n",
       "    }\n",
       "\n",
       "    .dataframe thead th {\n",
       "        text-align: right;\n",
       "    }\n",
       "</style>\n",
       "<table border=\"1\" class=\"dataframe\">\n",
       "  <thead>\n",
       "    <tr style=\"text-align: right;\">\n",
       "      <th></th>\n",
       "      <th>Error_Prueba</th>\n",
       "      <th>Desviación estándar del error</th>\n",
       "    </tr>\n",
       "    <tr>\n",
       "      <th>Tamano de ventana</th>\n",
       "      <th></th>\n",
       "      <th></th>\n",
       "    </tr>\n",
       "  </thead>\n",
       "  <tbody>\n",
       "    <tr>\n",
       "      <th>0.05</th>\n",
       "      <td>0.221</td>\n",
       "      <td>0.043</td>\n",
       "    </tr>\n",
       "    <tr>\n",
       "      <th>0.1</th>\n",
       "      <td>0.221</td>\n",
       "      <td>0.043</td>\n",
       "    </tr>\n",
       "    <tr>\n",
       "      <th>0.5</th>\n",
       "      <td>0.281</td>\n",
       "      <td>0.040</td>\n",
       "    </tr>\n",
       "    <tr>\n",
       "      <th>1</th>\n",
       "      <td>0.280</td>\n",
       "      <td>0.031</td>\n",
       "    </tr>\n",
       "    <tr>\n",
       "      <th>2</th>\n",
       "      <td>0.241</td>\n",
       "      <td>0.058</td>\n",
       "    </tr>\n",
       "    <tr>\n",
       "      <th>5</th>\n",
       "      <td>0.221</td>\n",
       "      <td>0.046</td>\n",
       "    </tr>\n",
       "    <tr>\n",
       "      <th>10</th>\n",
       "      <td>0.221</td>\n",
       "      <td>0.046</td>\n",
       "    </tr>\n",
       "  </tbody>\n",
       "</table>\n",
       "</div>"
      ],
      "text/plain": [
       "                  Error_Prueba Desviación estándar del error\n",
       "Tamano de ventana                                           \n",
       "0.05                     0.221                         0.043\n",
       "0.1                      0.221                         0.043\n",
       "0.5                      0.281                         0.040\n",
       "1                        0.280                         0.031\n",
       "2                        0.241                         0.058\n",
       "5                        0.221                         0.046\n",
       "10                       0.221                         0.046"
      ]
     },
     "execution_count": 22,
     "metadata": {},
     "output_type": "execute_result"
    }
   ],
   "source": [
    "qgrid_widget.get_changed_df()"
   ]
  },
  {
   "cell_type": "code",
   "execution_count": null,
   "metadata": {},
   "outputs": [],
   "source": [
    "#0.05\t0.221\t+-0.043\n",
    "0.1\t0.221\t+-0.043\n",
    "0.5\t0.281\t+-0.040\n",
    "1\t0.280\t+-0.031\n",
    "2\t0.241\t+-0.058\n",
    "5\t0.221\t+-0.046\n",
    "10\t0.221\t+-0.046"
   ]
  }
 ],
 "metadata": {
  "kernelspec": {
   "display_name": "Python 3",
   "language": "python",
   "name": "python3"
  },
  "language_info": {
   "codemirror_mode": {
    "name": "ipython",
    "version": 3
   },
   "file_extension": ".py",
   "mimetype": "text/x-python",
   "name": "python",
   "nbconvert_exporter": "python",
   "pygments_lexer": "ipython3",
   "version": "3.6.7"
  }
 },
 "nbformat": 4,
 "nbformat_minor": 2
}
