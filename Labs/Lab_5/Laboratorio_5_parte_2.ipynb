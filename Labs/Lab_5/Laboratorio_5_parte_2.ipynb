{
 "cells": [
  {
   "cell_type": "markdown",
   "metadata": {},
   "source": [
    "# Laboratorio 5 - Parte 2\n",
    "\n",
    "### Máquinas de Vectores de Soporte\n",
    "\n",
    "### 2018-II\n",
    "\n",
    "#### Profesor: Julián D. Arias Londoño\n",
    "#### julian.ariasl@udea.edu.co"
   ]
  },
  {
   "cell_type": "markdown",
   "metadata": {},
   "source": [
    "## Guía del laboratorio\n",
    "\n",
    "En esta archivo va a encontrar tanto celdas de código cómo celdas de texto con las instrucciones para desarrollar el laboratorio.\n",
    "\n",
    "Lea atentamente las instrucciones entregadas en las celdas de texto correspondientes y proceda con la solución de las preguntas planteadas.\n",
    "\n",
    "Nota: no olvide ir ejecutando las celdas de código de arriba hacia abajo para que no tenga errores de importación de librerías o por falta de definición de variables."
   ]
  },
  {
   "cell_type": "markdown",
   "metadata": {},
   "source": [
    "#### Primer Integrante: Sidney Paola Aguirre Castro \n",
    "#### Segundo Integrante: John Alexander Galeano Ospina"
   ]
  },
  {
   "cell_type": "code",
   "execution_count": 2,
   "metadata": {},
   "outputs": [],
   "source": [
    "from __future__ import division\n",
    "import numpy as np\n",
    "import math\n",
    "import matplotlib.pyplot as plt\n",
    "#Algunas advertencias que queremos evitar\n",
    "import warnings\n",
    "warnings.filterwarnings(\"always\")\n",
    "%matplotlib inline"
   ]
  },
  {
   "cell_type": "markdown",
   "metadata": {},
   "source": [
    "## Ejercicio 1\n",
    "\n",
    "En este ejercicio usaremos la regresión por vectores de soporte para resolver el problema de regresión de la base de datos AirQuality (https://archive.ics.uci.edu/ml/datasets/Air+Quality)."
   ]
  },
  {
   "cell_type": "markdown",
   "metadata": {},
   "source": [
    "La siguiente celda de código limpia la base de datos de todos sus datos faltantes y la deja lista en la variable DataBase."
   ]
  },
  {
   "cell_type": "code",
   "execution_count": 3,
   "metadata": {},
   "outputs": [
    {
     "name": "stdout",
     "output_type": "stream",
     "text": [
      "Dim de la base de datos original: (9357, 13)\n",
      "\n",
      "Hay 366 valores perdidos en la variable de salida. :(\n",
      "\n",
      "Dim de la base de datos sin las muestras con variable de salida perdido (8991, 13)\n",
      "\n",
      "Procesando imputación de valores perdidos en las características . . .\n",
      "\n",
      "Imputación finalizada.\n",
      "\n",
      "No hay valores perdidos en la base de datos. Ahora se puede procesar. La base de datos está en la variable DataBase\n"
     ]
    }
   ],
   "source": [
    "#cargamos la bd de entrenamiento\n",
    "db = np.loadtxt('BDatos/AirQuality.data',delimiter='\\t')  # Assuming tab-delimiter\n",
    "print (\"Dim de la base de datos original: \" + str(np.shape(db)))\n",
    "db = db.reshape(9357,13)\n",
    "DataBase = db\n",
    "#La base d edatos AirQuality tiene muchos valores perdidos, vamos a quitar todos esos registros de la base de datos\n",
    "#Están marcados como -200. Donde haya un valor -200 eliminaremos el registro.\n",
    "j = 0\n",
    "for i in range(0,np.size(db,0)):\n",
    "    if -200 == db[i,12]:\n",
    "        #print i\n",
    "        j+=1\n",
    "        DataBase = np.delete(DataBase,i,0)\n",
    "    \n",
    "print (\"\\nHay \" + str(j) + \" valores perdidos en la variable de salida. :(\")\n",
    "\n",
    "print (\"\\nDim de la base de datos sin las muestras con variable de salida perdido \"+ str(np.shape(DataBase)))\n",
    "\n",
    "#Ya hemos eliminado los registros con valor de la variable de salida perdido.\n",
    "\n",
    "#Ahora vamos a imputar los valores perdidos en cada una de las características\n",
    "print (\"\\nProcesando imputación de valores perdidos en las características . . .\\n\")\n",
    "\n",
    "#data = open(\"AirQuality_cleaned.data\", \"w\")\n",
    "\n",
    "for k in range(0,np.size(DataBase,0)):\n",
    "    for w in range(0,13):\n",
    "        if -200 == DataBase[k,w]:\n",
    "            DataBase[k,w] = round(np.mean(DataBase[:,w]))\n",
    "        \n",
    "    #data.write(str(DataBase[k,:]))\n",
    "\n",
    "#data.close()\n",
    "print (\"Imputación finalizada.\\n\")\n",
    "\n",
    "hay_missed_values = False\n",
    "for i in range(0,np.size(DataBase,0)):\n",
    "    if -200 in DataBase[i,:]:\n",
    "        hay_missed_values = True\n",
    "if(hay_missed_values):\n",
    "    print (\"Hay valores perdidos\")\n",
    "else:\n",
    "    print (\"No hay valores perdidos en la base de datos. Ahora se puede procesar. La base de datos está en la variable DataBase\")"
   ]
  },
  {
   "cell_type": "code",
   "execution_count": 4,
   "metadata": {},
   "outputs": [],
   "source": [
    "X = DataBase[:,0:12]\n",
    "\n",
    "Y = DataBase[:,12]"
   ]
  },
  {
   "cell_type": "markdown",
   "metadata": {},
   "source": [
    "Definimos la función"
   ]
  },
  {
   "cell_type": "code",
   "execution_count": 5,
   "metadata": {},
   "outputs": [],
   "source": [
    "#Mean Absolute Percentage Error para los problemas de regresión\n",
    "def MAPE(Y_est,Y):\n",
    "    ind = Y != 0 #Remueve los elementos que son cero en la variable deseada\n",
    "    N = np.size(Y[ind])\n",
    "    mape = np.sum(abs((Y_est[ind].reshape(N,1) - Y[ind].reshape(N,1))/(Y[ind].reshape(N,1)+np.finfo(np.float).eps)))/N\n",
    "    return mape "
   ]
  },
  {
   "cell_type": "markdown",
   "metadata": {},
   "source": [
    "Complete el código siguiente para usar la regresión por vectores de suporte usando la librería sklearn. https://scikit-learn.org/stable/modules/generated/sklearn.svm.SVR.html"
   ]
  },
  {
   "cell_type": "code",
   "execution_count": 7,
   "metadata": {},
   "outputs": [
    {
     "name": "stdout",
     "output_type": "stream",
     "text": [
      "C: 0.1 - gamma: 0.01\n",
      "\n",
      "Error de validación: 0.14749913966735667 +/- 0.038211091227871585\n",
      "% Vectores de Soporte: 0.19049660040575228\n",
      "\n",
      "\n",
      "Tiempo total de ejecución: 2.5921661853790283 segundos.\n"
     ]
    }
   ],
   "source": [
    "from sklearn.model_selection import KFold\n",
    "from sklearn import preprocessing\n",
    "from sklearn.svm import SVR\n",
    "import time\n",
    "tiempo_i = time.time()\n",
    "\n",
    "#Complete el código para crear el modelo SVM para regresión. \n",
    "#Use un kernel rbf con una malla de valores así: C en {0.1, 100} y gamma en {0.0001, 0.1}\n",
    "#clf = SVR(kernel='rbf', C:\n",
    "\n",
    "#Implemetamos la metodología de validación cross validation con 10 folds\n",
    "Folds = 5\n",
    "psv_mean = np.zeros(5)\n",
    "Errores = np.ones(Folds)\n",
    "j = 0\n",
    "kf = KFold(n_splits=Folds)\n",
    "\n",
    "for train_index, test_index in kf.split(X):\n",
    "    \n",
    "    X_train, X_test = X[train_index], X[test_index]\n",
    "    y_train, y_test = Y[train_index], Y[test_index] \n",
    "    \n",
    "    #Normalizamos los datos\n",
    "    scaler = preprocessing.StandardScaler().fit(X_train)\n",
    "    X_train = scaler.transform(X_train)\n",
    "    X_test = scaler.transform(X_test)\n",
    "       \n",
    "    #Complete el código\n",
    "    #Penalty parameter C of the error term.\n",
    "    C = 0.1\n",
    "    #Kernel ['linear',‘rbf’] Specifies the kernel type to be used in the algorithm.\n",
    "    kernel = 'rbf'\n",
    "    #Gamma \n",
    "    gamma = 0.01\n",
    "    #gamma = 'auto' #para gamma=0.\n",
    "    modelo = SVR(kernel=kernel, gamma=gamma, C=C)\n",
    "    \n",
    "    # Entrenar el modelo\n",
    "    modelo = modelo.fit(X_train, y_train)\n",
    "      \n",
    "    # Validación del modelo\n",
    "    ypred = modelo.predict(X_test)\n",
    "    #sacamos el porcentaje de los vectores de soporte\n",
    "    psv = modelo.support_vectors_\n",
    "    psv_mean[j] = psv.size/X_train.size\n",
    "    \n",
    "    Errores[j] = MAPE(ypred, y_test)\n",
    "    j+=1\n",
    "\n",
    "print(\"C: \" + str(C) + \" - gamma: \" +str(gamma) )\n",
    "print(\"\\nError de validación: \" + str(np.mean(Errores)) + \" +/- \" + str(np.std(Errores)))\n",
    "\n",
    "print(\"% Vectores de Soporte: \" + str(np.mean(psv_mean)))\n",
    "\n",
    "print ((\"\\n\\nTiempo total de ejecución: \" + str(time.time()-tiempo_i)) + \" segundos.\")\n"
   ]
  },
  {
   "cell_type": "markdown",
   "metadata": {},
   "source": [
    "## Ejercicio 2\n",
    "\n",
    "Una vez complete el código, realice las simulaciones necesarias para llenar la tabla siguiente:"
   ]
  },
  {
   "cell_type": "code",
   "execution_count": 69,
   "metadata": {},
   "outputs": [
    {
     "data": {
      "application/vnd.jupyter.widget-view+json": {
       "model_id": "a6c1a5c67ab94f88a11219bd26f8417b",
       "version_major": 2,
       "version_minor": 0
      },
      "text/plain": [
       "QgridWidget(grid_options={'fullWidthRows': True, 'syncColumnCellResize': True, 'forceFitColumns': True, 'defau…"
      ]
     },
     "metadata": {},
     "output_type": "display_data"
    }
   ],
   "source": [
    "import pandas as pd\n",
    "import qgrid\n",
    "df_types = pd.DataFrame({\n",
    "    'Kernel' : pd.Series(['lineal','lineal','lineal','lineal','lineal','lineal','rbf','rbf','rbf','rbf','rbf','rbf','rbf','rbf','rbf','rbf','rbf','rbf','rbf','rbf','rbf','rbf','rbf','rbf']),\n",
    "    'C' : pd.Series([0.001,0.01,0.1,1,10,100,0.001,0.001,0.001,0.01,0.01,0.01,0.1,0.1,0.1,1,1,1,10,10,10,100,100,100]),\n",
    "    'gamma' : pd.Series([0,0,0,0,0,0,0.01,0.1,1,0.01,0.1,1,0.01,0.1,1,0.01,0.1,1,0.01,0.1,1,0.01,0.1,1])})\n",
    "df_types[\"MAPE Promedio\"] = \"\"\n",
    "df_types[\"Intervalo de confianza\"] = \"\"\n",
    "df_types[\"% de Vectores de Soporte\"] = \"\"\n",
    "df_types.set_index(['Kernel','C','gamma'], inplace=True)\n",
    "df_types[\"MAPE Promedio\"][23] = \"0.2259\"\n",
    "df_types[\"Intervalo de confianza\"][23] = \"0.1109\"\n",
    "df_types[\"% de Vectores de Soporte\"][23] = \"0.2191\"\n",
    "#df_types.sort_index(inplace=True)\n",
    "qgrid_widget = qgrid.show_grid(df_types, show_toolbar=False)\n",
    "qgrid_widget"
   ]
  },
  {
   "cell_type": "markdown",
   "metadata": {},
   "source": [
    "Ejecute la siguiente instrucción para dejar guardados en el notebook los resultados de las pruebas."
   ]
  },
  {
   "cell_type": "code",
   "execution_count": 71,
   "metadata": {},
   "outputs": [
    {
     "data": {
      "text/html": [
       "<div>\n",
       "<style scoped>\n",
       "    .dataframe tbody tr th:only-of-type {\n",
       "        vertical-align: middle;\n",
       "    }\n",
       "\n",
       "    .dataframe tbody tr th {\n",
       "        vertical-align: top;\n",
       "    }\n",
       "\n",
       "    .dataframe thead th {\n",
       "        text-align: right;\n",
       "    }\n",
       "</style>\n",
       "<table border=\"1\" class=\"dataframe\">\n",
       "  <thead>\n",
       "    <tr style=\"text-align: right;\">\n",
       "      <th></th>\n",
       "      <th></th>\n",
       "      <th></th>\n",
       "      <th>MAPE Promedio</th>\n",
       "      <th>Intervalo de confianza</th>\n",
       "      <th>% de Vectores de Soporte</th>\n",
       "    </tr>\n",
       "    <tr>\n",
       "      <th>Kernel</th>\n",
       "      <th>C</th>\n",
       "      <th>gamma</th>\n",
       "      <th></th>\n",
       "      <th></th>\n",
       "      <th></th>\n",
       "    </tr>\n",
       "  </thead>\n",
       "  <tbody>\n",
       "    <tr>\n",
       "      <th rowspan=\"6\" valign=\"top\">lineal</th>\n",
       "      <th>0.001</th>\n",
       "      <th>0.00</th>\n",
       "      <td>0.2153</td>\n",
       "      <td>0.0646</td>\n",
       "      <td>0.3786</td>\n",
       "    </tr>\n",
       "    <tr>\n",
       "      <th>0.010</th>\n",
       "      <th>0.00</th>\n",
       "      <td>0.2449</td>\n",
       "      <td>0.0962</td>\n",
       "      <td>0.3766</td>\n",
       "    </tr>\n",
       "    <tr>\n",
       "      <th>0.100</th>\n",
       "      <th>0.00</th>\n",
       "      <td>0.2768</td>\n",
       "      <td>0.1346</td>\n",
       "      <td>0.3849</td>\n",
       "    </tr>\n",
       "    <tr>\n",
       "      <th>1.000</th>\n",
       "      <th>0.00</th>\n",
       "      <td>0.2869</td>\n",
       "      <td>0.1507</td>\n",
       "      <td>0.3862</td>\n",
       "    </tr>\n",
       "    <tr>\n",
       "      <th>10.000</th>\n",
       "      <th>0.00</th>\n",
       "      <td>0.2866</td>\n",
       "      <td>0.1500</td>\n",
       "      <td>0.3863</td>\n",
       "    </tr>\n",
       "    <tr>\n",
       "      <th>100.000</th>\n",
       "      <th>0.00</th>\n",
       "      <td>0.2885</td>\n",
       "      <td>0.1531</td>\n",
       "      <td>0.3863</td>\n",
       "    </tr>\n",
       "    <tr>\n",
       "      <th rowspan=\"18\" valign=\"top\">rbf</th>\n",
       "      <th rowspan=\"3\" valign=\"top\">0.001</th>\n",
       "      <th>0.01</th>\n",
       "      <td>0.4014</td>\n",
       "      <td>0.2062</td>\n",
       "      <td>0.7470</td>\n",
       "    </tr>\n",
       "    <tr>\n",
       "      <th>0.10</th>\n",
       "      <td>0.3285</td>\n",
       "      <td>0.1402</td>\n",
       "      <td>0.6425</td>\n",
       "    </tr>\n",
       "    <tr>\n",
       "      <th>1.00</th>\n",
       "      <td>0.4905</td>\n",
       "      <td>0.2859</td>\n",
       "      <td>0.7693</td>\n",
       "    </tr>\n",
       "    <tr>\n",
       "      <th rowspan=\"3\" valign=\"top\">0.010</th>\n",
       "      <th>0.01</th>\n",
       "      <td>0.1830</td>\n",
       "      <td>0.0380</td>\n",
       "      <td>0.4433</td>\n",
       "    </tr>\n",
       "    <tr>\n",
       "      <th>0.10</th>\n",
       "      <td>0.1792</td>\n",
       "      <td>0.0505</td>\n",
       "      <td>0.2780</td>\n",
       "    </tr>\n",
       "    <tr>\n",
       "      <th>1.00</th>\n",
       "      <td>0.3905</td>\n",
       "      <td>0.2341</td>\n",
       "      <td>0.5615</td>\n",
       "    </tr>\n",
       "    <tr>\n",
       "      <th rowspan=\"3\" valign=\"top\">0.100</th>\n",
       "      <th>0.01</th>\n",
       "      <td>0.1474</td>\n",
       "      <td>0.0382</td>\n",
       "      <td>0.1904</td>\n",
       "    </tr>\n",
       "    <tr>\n",
       "      <th>0.10</th>\n",
       "      <td>0.1499</td>\n",
       "      <td>0.0544</td>\n",
       "      <td>0.1517</td>\n",
       "    </tr>\n",
       "    <tr>\n",
       "      <th>1.00</th>\n",
       "      <td>0.2685</td>\n",
       "      <td>0.1504</td>\n",
       "      <td>0.2690</td>\n",
       "    </tr>\n",
       "    <tr>\n",
       "      <th rowspan=\"3\" valign=\"top\">1.000</th>\n",
       "      <th>0.01</th>\n",
       "      <td>0.2044</td>\n",
       "      <td>0.1874</td>\n",
       "      <td>0.1220</td>\n",
       "    </tr>\n",
       "    <tr>\n",
       "      <th>0.10</th>\n",
       "      <td>0.1916</td>\n",
       "      <td>0.1404</td>\n",
       "      <td>0.1657</td>\n",
       "    </tr>\n",
       "    <tr>\n",
       "      <th>1.00</th>\n",
       "      <td>0.2378</td>\n",
       "      <td>0.1299</td>\n",
       "      <td>0.2166</td>\n",
       "    </tr>\n",
       "    <tr>\n",
       "      <th rowspan=\"3\" valign=\"top\">10.000</th>\n",
       "      <th>0.01</th>\n",
       "      <td>0.5590</td>\n",
       "      <td>0.9123</td>\n",
       "      <td>0.1637</td>\n",
       "    </tr>\n",
       "    <tr>\n",
       "      <th>0.10</th>\n",
       "      <td>0.1802</td>\n",
       "      <td>0.1709</td>\n",
       "      <td>0.1044</td>\n",
       "    </tr>\n",
       "    <tr>\n",
       "      <th>1.00</th>\n",
       "      <td>0.2226</td>\n",
       "      <td>0.1082</td>\n",
       "      <td>0.2132</td>\n",
       "    </tr>\n",
       "    <tr>\n",
       "      <th rowspan=\"3\" valign=\"top\">100.000</th>\n",
       "      <th>0.01</th>\n",
       "      <td>0.6903</td>\n",
       "      <td>1.2096</td>\n",
       "      <td>0.1021</td>\n",
       "    </tr>\n",
       "    <tr>\n",
       "      <th>0.10</th>\n",
       "      <td>0.2141</td>\n",
       "      <td>0.2035</td>\n",
       "      <td>0.1046</td>\n",
       "    </tr>\n",
       "    <tr>\n",
       "      <th>1.00</th>\n",
       "      <td>0.2259</td>\n",
       "      <td>0.1109</td>\n",
       "      <td>0.2191</td>\n",
       "    </tr>\n",
       "  </tbody>\n",
       "</table>\n",
       "</div>"
      ],
      "text/plain": [
       "                     MAPE Promedio Intervalo de confianza  \\\n",
       "Kernel C       gamma                                        \n",
       "lineal 0.001   0.00         0.2153                 0.0646   \n",
       "       0.010   0.00         0.2449                 0.0962   \n",
       "       0.100   0.00         0.2768                 0.1346   \n",
       "       1.000   0.00         0.2869                 0.1507   \n",
       "       10.000  0.00         0.2866                 0.1500   \n",
       "       100.000 0.00         0.2885                 0.1531   \n",
       "rbf    0.001   0.01         0.4014                 0.2062   \n",
       "               0.10         0.3285                 0.1402   \n",
       "               1.00         0.4905                 0.2859   \n",
       "       0.010   0.01         0.1830                 0.0380   \n",
       "               0.10         0.1792                 0.0505   \n",
       "               1.00         0.3905                 0.2341   \n",
       "       0.100   0.01         0.1474                 0.0382   \n",
       "               0.10         0.1499                 0.0544   \n",
       "               1.00         0.2685                 0.1504   \n",
       "       1.000   0.01         0.2044                 0.1874   \n",
       "               0.10         0.1916                 0.1404   \n",
       "               1.00         0.2378                 0.1299   \n",
       "       10.000  0.01         0.5590                 0.9123   \n",
       "               0.10         0.1802                 0.1709   \n",
       "               1.00         0.2226                 0.1082   \n",
       "       100.000 0.01         0.6903                 1.2096   \n",
       "               0.10         0.2141                 0.2035   \n",
       "               1.00         0.2259                 0.1109   \n",
       "\n",
       "                     % de Vectores de Soporte  \n",
       "Kernel C       gamma                           \n",
       "lineal 0.001   0.00                    0.3786  \n",
       "       0.010   0.00                    0.3766  \n",
       "       0.100   0.00                    0.3849  \n",
       "       1.000   0.00                    0.3862  \n",
       "       10.000  0.00                    0.3863  \n",
       "       100.000 0.00                    0.3863  \n",
       "rbf    0.001   0.01                    0.7470  \n",
       "               0.10                    0.6425  \n",
       "               1.00                    0.7693  \n",
       "       0.010   0.01                    0.4433  \n",
       "               0.10                    0.2780  \n",
       "               1.00                    0.5615  \n",
       "       0.100   0.01                    0.1904  \n",
       "               0.10                    0.1517  \n",
       "               1.00                    0.2690  \n",
       "       1.000   0.01                    0.1220  \n",
       "               0.10                    0.1657  \n",
       "               1.00                    0.2166  \n",
       "       10.000  0.01                    0.1637  \n",
       "               0.10                    0.1044  \n",
       "               1.00                    0.2132  \n",
       "       100.000 0.01                    0.1021  \n",
       "               0.10                    0.1046  \n",
       "               1.00                    0.2191  "
      ]
     },
     "execution_count": 71,
     "metadata": {},
     "output_type": "execute_result"
    }
   ],
   "source": [
    "qgrid_widget.get_changed_df()"
   ]
  },
  {
   "cell_type": "markdown",
   "metadata": {},
   "source": [
    "**3.1 ¿Cuál es la finalidad de usar las funciones kernel en el modelo SVM?**\n",
    "\n",
    "R/: La finalidad de usar funciones kernel en el modelo SVM es poder proyectar el espacio de características a un espacio con una dimensión mayor para hacer que una función lineal se aproxime más a los puntos. \n",
    "\n",
    "**3.2 ¿En este caso el porcentaje de vectores de soporte provee una información similar que en el problema de clasificación? Explique su respuesta.**\n",
    "\n",
    "R/: Comparando con la información que el porcentaje de vectores de soporte ofrece en el problema de clasificación, decimos que **no** se obtiene una información similar en el caso de regresión, porque analizando los resultados, vemos una relación entre la eficiencia y el % de los vectores para este set de datos de la calidad del aire se presenta que los datos son linealmente separables por lo cual con una cantidad menor de vectores obtenemos una eficiencia mejor.\n"
   ]
  },
  {
   "cell_type": "markdown",
   "metadata": {},
   "source": [
    "3.3 Realice una gráfica de las salidas reales vs las predicciones del modelo SVM, para evaluar visualmente el desempeño del mismo. Esto solo para la configuración en la cuál se encontró el menor error."
   ]
  },
  {
   "cell_type": "code",
   "execution_count": 10,
   "metadata": {},
   "outputs": [
    {
     "data": {
      "image/png": "[encoded data removed]",
      "text/plain": [
       "<Figure size 432x288 with 1 Axes>"
      ]
     },
     "metadata": {
      "needs_background": "light"
     },
     "output_type": "display_data"
    },
    {
     "name": "stdout",
     "output_type": "stream",
     "text": [
      "Costo computacional:  135.42610216140747  s\n"
     ]
    }
   ],
   "source": [
    "#Complete el código para hacer la gráfica aquí\n",
    "# Con C = 0.1 y gammas = 0.01 y kernel = rbf\n",
    "plt.title('Salidas Esperadas vs Predicciones', fontsize=14)\n",
    "plt.plot(y_test)\n",
    "plt.plot(ypred)\n",
    "plt.legend(['Teórico', 'Predicho'], loc=4)\n",
    "plt.show()\n",
    "\n",
    "print('Costo computacional: ', time.time()-tiempo_i, ' s')"
   ]
  },
  {
   "cell_type": "code",
   "execution_count": null,
   "metadata": {},
   "outputs": [],
   "source": []
  }
 ],
 "metadata": {
  "kernelspec": {
   "display_name": "Python 3",
   "language": "python",
   "name": "python3"
  },
  "language_info": {
   "codemirror_mode": {
    "name": "ipython",
    "version": 3
   },
   "file_extension": ".py",
   "mimetype": "text/x-python",
   "name": "python",
   "nbconvert_exporter": "python",
   "pygments_lexer": "ipython3",
   "version": "3.7.0"
  }
 },
 "nbformat": 4,
 "nbformat_minor": 2
}
