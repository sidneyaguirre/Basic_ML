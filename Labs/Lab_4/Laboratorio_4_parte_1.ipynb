{
 "cells": [
  {
   "cell_type": "markdown",
   "metadata": {},
   "source": [
    "# Laboratorio 4 - Parte 1\n",
    "\n",
    "### Redes Neuronales Artificiales: MLP\n",
    "\n",
    "### 2018-II\n",
    "\n",
    "#### Profesor: Julián D. Arias Londoño\n",
    "#### julian.ariasl@udea.edu.co\n"
   ]
  },
  {
   "cell_type": "markdown",
   "metadata": {},
   "source": [
    "## Guía del laboratorio\n",
    "\n",
    "En esta archivo va a encontrar tanto celdas de código cómo celdas de texto con las instrucciones para desarrollar el laboratorio.\n",
    "\n",
    "Lea atentamente las instrucciones entregadas en las celdas de texto correspondientes y proceda con la solución de las preguntas planteadas.\n",
    "\n",
    "Nota: no olvide ir ejecutando las celdas de código de arriba hacia abajo para que no tenga errores de importación de librerías o por falta de definición de variables."
   ]
  },
  {
   "cell_type": "markdown",
   "metadata": {},
   "source": [
    "#### Primer Integrante: John Alexander Galeano Ospina\n",
    "#### Segundo Integrante: Sidney Paola Aguirre Castro"
   ]
  },
  {
   "cell_type": "code",
   "execution_count": 55,
   "metadata": {},
   "outputs": [],
   "source": [
    "%matplotlib inline\n",
    "import numpy as np\n",
    "import math\n",
    "import matplotlib.pyplot as plt\n",
    "from __future__ import division\n",
    "\n",
    "#Algunas advertencias que queremos evitar\n",
    "import warnings\n",
    "warnings.filterwarnings(\"always\")"
   ]
  },
  {
   "cell_type": "markdown",
   "metadata": {},
   "source": [
    "## Indicaciones\n",
    "\n",
    "Este ejercicio tiene como objetivo implementar una red neuronal artificial de tipo perceptrón multicapa (MLP) para resolver un problema de regresión. Usaremos la librería sklearn. Consulte todo lo relacionado con la definición de hiperparámetros, los métodos para el entrenamiento y la predicción de nuevas muestras en el siguiente enlace: http://scikit-learn.org/stable/modules/generated/sklearn.neural_network.MLPRegressor.html#sklearn.neural_network.MLPRegressor"
   ]
  },
  {
   "cell_type": "markdown",
   "metadata": {},
   "source": [
    "Para este ejercicio usaremos la base de datos sobre calidad del aire, que ha sido usada en laboratorios previos, pero en este caso trataremos de predecir dos variables en lugar de una, es decir, abordaremos un problema de múltiples salidas."
   ]
  },
  {
   "cell_type": "code",
   "execution_count": 56,
   "metadata": {},
   "outputs": [],
   "source": [
    "#cargamos la bd que está en un archivo .data y ahora la podemos manejar de forma matricial\n",
    "db = np.loadtxt('DB/AirQuality.data',delimiter='\\t')  # Assuming tab-delimiter\n",
    "\n",
    "#Esta es la base de datos AirQuality del UCI Machine Learning Repository. En la siguiente URL se encuentra toda\n",
    "#la descripción de la base de datos y la contextualización del problema.\n",
    "#https://archive.ics.uci.edu/ml/datasets/Air+Quality#\n",
    "\n",
    "X = db[:,0:11]\n",
    "Y = db[:,11:13]"
   ]
  },
  {
   "cell_type": "code",
   "execution_count": 59,
   "metadata": {},
   "outputs": [],
   "source": [
    "#Mean Absolute Percentage Error para los problemas de regresión\n",
    "def MAPE(Y_est,Y):\n",
    "    N = np.size(Y)\n",
    "    mape = np.sum(abs((Y_est.reshape(N,1) - Y.reshape(N,1))/Y.reshape(N,1)))/N\n",
    "    return mape "
   ]
  },
  {
   "cell_type": "markdown",
   "metadata": {},
   "source": [
    "## Ejercicio 1\n",
    "\n",
    "Complete el script siguiente con el código necesario para usar una red neuronal tipo MLP para solucionar el problema de regresión propuesto. Como función de activación en las capas ocultas use la función 'tanh'. Ajuste el número máximo de épocas a 500."
   ]
  },
  {
   "cell_type": "code",
   "execution_count": 33,
   "metadata": {},
   "outputs": [
    {
     "name": "stdout",
     "output_type": "stream",
     "text": [
      "identity\n",
      "MAPE salida 1 = 0.06600835243363894+-0.0016428393530221281\n",
      "MAPE salida 2 = 1.0220498948011731+-0.07211487660609449\n",
      "MAPE total = 0.5440291236174061+-0.03573485899945333\n"
     ]
    }
   ],
   "source": [
    "from numpy import random\n",
    "from sklearn.neural_network import MLPRegressor\n",
    "from sklearn.model_selection import ShuffleSplit\n",
    "from sklearn import preprocessing\n",
    "#Validamos el modelo\n",
    "Folds = 4\n",
    "random.seed(19680801)\n",
    "ErrorY1 = np.zeros(Folds)\n",
    "ErrorY2 = np.zeros(Folds)\n",
    "ErrorT = np.zeros(Folds)\n",
    "ss = ShuffleSplit(n_splits=Folds, test_size=0.3)\n",
    "j = 0\n",
    "for train, test in ss.split(X):\n",
    "    Xtrain = X[train,:]\n",
    "    Ytrain = Y[train,:]\n",
    "    Xtest = X[test,:]\n",
    "    Ytest = Y[test,:]\n",
    "    \n",
    "    #Normalizamos los datos\n",
    "    media = np.mean(Xtrain,axis=0)\n",
    "    desvia = np.std(Xtrain,axis=0)\n",
    "    Xtrain = preprocessing.scale(Xtrain)\n",
    "    Xtest = (Xtest - np.matlib.repmat(media, Xtest.shape[0], 1))/np.matlib.repmat(desvia, Xtest.shape[0], 1)\n",
    "    \n",
    "    #Haga el llamado a la función para crear y entrenar el modelo usando los datos de entrenamiento\n",
    "    epochs = 500\n",
    "    neurons = 36\n",
    "    mlp = MLPRegressor(hidden_layer_sizes=(neurons,neurons),activation='tanh', max_iter=epochs)\n",
    "    mlp.fit(Xtrain,Ytrain)\n",
    "    fnO = mlp.out_activation_ #imprime nombre de función de activación en la capa de salida\n",
    "    \n",
    "    #Use para el modelo para hacer predicciones sobre el conjunto Xtest\n",
    "    Yest = mlp.predict(Xtest)\n",
    "    \n",
    "    #Mida el error MAPE para cada una de las dos salidas\n",
    "    ErrorY1[j] = MAPE(Yest[:,0], Ytest[:,0])\n",
    "    ErrorY2[j] = MAPE(Yest[:,1], Ytest[:,1])\n",
    "    ErrorT[j] = (ErrorY1[j] + ErrorY2[j])/2\n",
    "    j += 1\n",
    "\n",
    "print(fnO)\n",
    "#print(Yest.shape)  \n",
    "print('MAPE salida 1 = ' + str(np.mean(ErrorY1)) + '+-' + str(np.std(ErrorY1)))\n",
    "print('MAPE salida 2 = ' + str(np.mean(ErrorY2)) + '+-' + str(np.std(ErrorY2)))\n",
    "print('MAPE total = '    + str(np.mean(ErrorT)) + '+-' + str(np.std(ErrorT)))"
   ]
  },
  {
   "cell_type": "code",
   "execution_count": 50,
   "metadata": {},
   "outputs": [
    {
     "data": {
      "text/plain": [
       "(array([-2.000e+02,  1.847e-01,  1.862e-01, ...,  8.710e+01,  8.720e+01,\n",
       "         8.870e+01]), array([732,   1,   1, ...,   1,   1,   1], dtype=int64))"
      ]
     },
     "execution_count": 50,
     "metadata": {},
     "output_type": "execute_result"
    }
   ],
   "source": [
    "Yest[:,0].reshape(2808,1).shape\n",
    "Y.shape"
   ]
  },
  {
   "cell_type": "markdown",
   "metadata": {},
   "source": [
    "## Ejercicio 2\n",
    "\n",
    "Una vez completado el código anterior. Realice los experimentos necesarios para completar la tabla siguiente:"
   ]
  },
  {
   "cell_type": "code",
   "execution_count": 20,
   "metadata": {},
   "outputs": [
    {
     "data": {
      "application/vnd.jupyter.widget-view+json": {
       "model_id": "3c55de38ce284cf1a4064db178dbc807",
       "version_major": 2,
       "version_minor": 0
      },
      "text/plain": [
       "QgridWidget(grid_options={'fullWidthRows': True, 'syncColumnCellResize': True, 'forceFitColumns': True, 'defau…"
      ]
     },
     "metadata": {},
     "output_type": "display_data"
    }
   ],
   "source": [
    "import pandas as pd\n",
    "import qgrid\n",
    "df_types = pd.DataFrame({\n",
    "    'N. de capas ocultas' : pd.Series([1,1,1,1,1,2,2,2,2,2]),\n",
    "    'Neuronas por capa' : pd.Series([20,24,28,32,36,20,24,28,32,36])})\n",
    "df_types[\"MAPE salida 1\"] = \"\"\n",
    "df_types[\"IC MAPE salida 1\"] = \"\"\n",
    "df_types[\"MAPE salida 2\"] = \"\"\n",
    "df_types[\"IC MAPE salida 2\"] = \"\"\n",
    "df_types.set_index(['N. de capas ocultas','Neuronas por capa'], inplace=True)\n",
    "#df_types.sort_index(inplace=True)\n",
    "qgrid_widget = qgrid.show_grid(df_types, show_toolbar=False)\n",
    "qgrid_widget"
   ]
  },
  {
   "cell_type": "markdown",
   "metadata": {},
   "source": [
    "Ejecute la siguiente instrucción para dejar guardados en el notebook los resultados de las pruebas."
   ]
  },
  {
   "cell_type": "code",
   "execution_count": 32,
   "metadata": {
    "scrolled": true
   },
   "outputs": [
    {
     "data": {
      "text/html": [
       "<div>\n",
       "<style scoped>\n",
       "    .dataframe tbody tr th:only-of-type {\n",
       "        vertical-align: middle;\n",
       "    }\n",
       "\n",
       "    .dataframe tbody tr th {\n",
       "        vertical-align: top;\n",
       "    }\n",
       "\n",
       "    .dataframe thead th {\n",
       "        text-align: right;\n",
       "    }\n",
       "</style>\n",
       "<table border=\"1\" class=\"dataframe\">\n",
       "  <thead>\n",
       "    <tr style=\"text-align: right;\">\n",
       "      <th></th>\n",
       "      <th></th>\n",
       "      <th>MAPE salida 1</th>\n",
       "      <th>IC MAPE salida 1</th>\n",
       "      <th>MAPE salida 2</th>\n",
       "      <th>IC MAPE salida 2</th>\n",
       "    </tr>\n",
       "    <tr>\n",
       "      <th>N. de capas ocultas</th>\n",
       "      <th>Neuronas por capa</th>\n",
       "      <th></th>\n",
       "      <th></th>\n",
       "      <th></th>\n",
       "      <th></th>\n",
       "    </tr>\n",
       "  </thead>\n",
       "  <tbody>\n",
       "    <tr>\n",
       "      <th rowspan=\"5\" valign=\"top\">1</th>\n",
       "      <th>20</th>\n",
       "      <td>0.0862</td>\n",
       "      <td>0.0019</td>\n",
       "      <td>2.3985</td>\n",
       "      <td>0.1585</td>\n",
       "    </tr>\n",
       "    <tr>\n",
       "      <th>24</th>\n",
       "      <td>0.0820</td>\n",
       "      <td>0.0015</td>\n",
       "      <td>2.0704</td>\n",
       "      <td>0.1187</td>\n",
       "    </tr>\n",
       "    <tr>\n",
       "      <th>28</th>\n",
       "      <td>0.0772</td>\n",
       "      <td>0.0014</td>\n",
       "      <td>1.7329</td>\n",
       "      <td>0.0694</td>\n",
       "    </tr>\n",
       "    <tr>\n",
       "      <th>32</th>\n",
       "      <td>0.0769</td>\n",
       "      <td>0.0015</td>\n",
       "      <td>1.5158</td>\n",
       "      <td>0.0524</td>\n",
       "    </tr>\n",
       "    <tr>\n",
       "      <th>36</th>\n",
       "      <td>0.0756</td>\n",
       "      <td>0.0007</td>\n",
       "      <td>1.4609</td>\n",
       "      <td>0.0753</td>\n",
       "    </tr>\n",
       "    <tr>\n",
       "      <th rowspan=\"5\" valign=\"top\">2</th>\n",
       "      <th>20</th>\n",
       "      <td>0.0714</td>\n",
       "      <td>0.0031</td>\n",
       "      <td>1.2207</td>\n",
       "      <td>0.0997</td>\n",
       "    </tr>\n",
       "    <tr>\n",
       "      <th>24</th>\n",
       "      <td>0.0662</td>\n",
       "      <td>0.0005</td>\n",
       "      <td>1.1099</td>\n",
       "      <td>0.0867</td>\n",
       "    </tr>\n",
       "    <tr>\n",
       "      <th>28</th>\n",
       "      <td>0.0678</td>\n",
       "      <td>0.0009</td>\n",
       "      <td>1.0028</td>\n",
       "      <td>0.0338</td>\n",
       "    </tr>\n",
       "    <tr>\n",
       "      <th>32</th>\n",
       "      <td>0.0672</td>\n",
       "      <td>0.0029</td>\n",
       "      <td>1.0943</td>\n",
       "      <td>0.1408</td>\n",
       "    </tr>\n",
       "    <tr>\n",
       "      <th>36</th>\n",
       "      <td>0.0660</td>\n",
       "      <td>0.0016</td>\n",
       "      <td>1.0220</td>\n",
       "      <td>0.0721</td>\n",
       "    </tr>\n",
       "  </tbody>\n",
       "</table>\n",
       "</div>"
      ],
      "text/plain": [
       "                                      MAPE salida 1 IC MAPE salida 1  \\\n",
       "N. de capas ocultas Neuronas por capa                                  \n",
       "1                   20                       0.0862           0.0019   \n",
       "                    24                       0.0820           0.0015   \n",
       "                    28                       0.0772           0.0014   \n",
       "                    32                       0.0769           0.0015   \n",
       "                    36                       0.0756           0.0007   \n",
       "2                   20                       0.0714           0.0031   \n",
       "                    24                       0.0662           0.0005   \n",
       "                    28                       0.0678           0.0009   \n",
       "                    32                       0.0672           0.0029   \n",
       "                    36                       0.0660           0.0016   \n",
       "\n",
       "                                      MAPE salida 2 IC MAPE salida 2  \n",
       "N. de capas ocultas Neuronas por capa                                 \n",
       "1                   20                       2.3985           0.1585  \n",
       "                    24                       2.0704           0.1187  \n",
       "                    28                       1.7329           0.0694  \n",
       "                    32                       1.5158           0.0524  \n",
       "                    36                       1.4609           0.0753  \n",
       "2                   20                       1.2207           0.0997  \n",
       "                    24                       1.1099           0.0867  \n",
       "                    28                       1.0028           0.0338  \n",
       "                    32                       1.0943           0.1408  \n",
       "                    36                       1.0220           0.0721  "
      ]
     },
     "execution_count": 32,
     "metadata": {},
     "output_type": "execute_result"
    }
   ],
   "source": [
    "qgrid_widget.get_changed_df()"
   ]
  },
  {
   "cell_type": "markdown",
   "metadata": {},
   "source": [
    "<b>Responda</b>:\n",
    "\n",
    "2.1 ¿Qué tipo de función de activación usa el modelo en la capa de salida?: \n",
    "\n",
    "R: En la capa de salida, según la librería de sklearn usada, el modelo usa la función de activación identidad, pero como esto quiere decir que a cada valor de x al que se le aplica la función, retorna el mismo x, concluímos que en teoría el modelo no usa función de activación en la capa de salida, ya que es una regresión, y la salida es un valor continuo."
   ]
  },
  {
   "cell_type": "markdown",
   "metadata": {},
   "source": [
    "## Ejercicio 3.\n",
    "\n",
    "A continuación se leen los datos de un problema de clasificación. El problema corresponde a la clasifiación de dígitos escritos a mano. Usaremos únicamente 4 de las 10 clases disponibles. Los datos fueron preprocesados para reducir el número de características. La técnica usada será analizada más adelante en el curso."
   ]
  },
  {
   "cell_type": "code",
   "execution_count": 64,
   "metadata": {},
   "outputs": [],
   "source": [
    "from sklearn.datasets import load_digits\n",
    "from sklearn.decomposition import PCA\n",
    "digits = load_digits(n_class=4)\n",
    "\n",
    "#--------- preprocesamiento--------------------\n",
    "pca = PCA(0.99, whiten=True)\n",
    "data = pca.fit_transform(digits.data)\n",
    "\n",
    "#---------- Datos a usar ----------------------\n",
    "X = data\n",
    "Y = digits.target"
   ]
  },
  {
   "cell_type": "markdown",
   "metadata": {},
   "source": [
    "Este ejercicio tiene como objetivo implementar una red neuronal artificial de tipo perceptrón multicapa (MLP) para resolver un problema de clasificación. Usaremos la librería sklearn. Consulte todo lo relacionado con la definición de hiperparámetros, los métodos para el entrenamiento y la predicción de nuevas muestras en el siguiente enlace: http://scikit-learn.org/stable/modules/generated/sklearn.neural_network.MLPClassifier.html#sklearn.neural_network.MLPClassifier"
   ]
  },
  {
   "cell_type": "markdown",
   "metadata": {},
   "source": [
    "Complete el script siguiente con el código necesario para usar una red neuronal tipo MLP para solucionar el problema de clasificación propuesto. Como función de activación en las capas ocultas use la función 'tanh'. Ajuste el número máximo de épocas a 500."
   ]
  },
  {
   "cell_type": "code",
   "execution_count": 65,
   "metadata": {},
   "outputs": [
    {
     "name": "stdout",
     "output_type": "stream",
     "text": [
      "Función en la capa de salida: softmax\n",
      "Cantidad de neuronas en la capa de salida: 4\n",
      "Eficiencia durante el entrenamiento = 1.0+-0.0\n",
      "Eficiencia durante la validación = 0.9610542147143794+-0.01970756737185292\n"
     ]
    }
   ],
   "source": [
    "from sklearn.neural_network import MLPClassifier\n",
    "from sklearn.model_selection import StratifiedKFold\n",
    "\n",
    "Folds = 4\n",
    "random.seed(19680801)\n",
    "EficienciaTrain = np.zeros(Folds)\n",
    "EficienciaVal = np.zeros(Folds)\n",
    "skf = StratifiedKFold(n_splits=Folds)\n",
    "j = 0\n",
    "for train, test in skf.split(X, Y):\n",
    "    Xtrain = X[train,:]\n",
    "    Ytrain = Y[train]\n",
    "    Xtest = X[test,:]\n",
    "    Ytest = Y[test]\n",
    "    \n",
    "    #Normalizamos los datos\n",
    "    media = np.mean(Xtrain)\n",
    "    desvia = np.std(Xtrain)\n",
    "    Xtrain = preprocessing.scale(Xtrain)\n",
    "    Xtest = (Xtest - np.matlib.repmat(media, Xtest.shape[0], 1))/np.matlib.repmat(desvia, Xtest.shape[0], 1)\n",
    "    \n",
    "    #Haga el llamado a la función para crear y entrenar el modelo usando los datos de entrenamiento\n",
    "    epochs = 500\n",
    "    neurons = 36\n",
    "    mlp = MLPClassifier(hidden_layer_sizes=(neurons,neurons ), activation='tanh', max_iter=epochs)\n",
    "    mlp.fit(Xtrain,Ytrain)\n",
    "    fnO = mlp.out_activation_ #imprime nombre de función de activación en la capa de salida\n",
    "    nO = mlp.n_outputs_ #imprime número de salidas en la capa de salida\n",
    "    \n",
    "    #Validación con las muestras de entrenamiento\n",
    "    Ytrain_pred =  mlp.predict(Xtrain)\n",
    "     \n",
    "    #Validación con las muestras de test    \n",
    "    Yest = mlp.predict(Xtest)\n",
    "    \n",
    "    #Evaluamos las predicciones del modelo con los datos de test\n",
    "    EficienciaTrain[j] = np.mean(Ytrain_pred == Ytrain)\n",
    "    EficienciaVal[j] = np.mean(Yest == Ytest)\n",
    "    j += 1\n",
    "print('Función en la capa de salida: '+ str(fnO))  \n",
    "print('Cantidad de neuronas en la capa de salida: '+ str(nO))\n",
    "print('Eficiencia durante el entrenamiento = ' + str(np.mean(EficienciaTrain)) + '+-' + str(np.std(EficienciaTrain)))\n",
    "print('Eficiencia durante la validación = ' + str(np.mean(EficienciaVal)) + '+-' + str(np.std(EficienciaVal)))"
   ]
  },
  {
   "cell_type": "code",
   "execution_count": 68,
   "metadata": {},
   "outputs": [
    {
     "name": "stdout",
     "output_type": "stream",
     "text": [
      "hay 4 clases\n"
     ]
    }
   ],
   "source": [
    "ncc = np.unique(Y)\n",
    "nc = len(ncc)\n",
    "print(\"hay \" + str(nc) + \" clases\")"
   ]
  },
  {
   "cell_type": "markdown",
   "metadata": {},
   "source": [
    "## Ejercicio 4\n",
    "\n",
    "Una vez completado el código realice los experimentos necesarios para llenar la siguiente tabla:"
   ]
  },
  {
   "cell_type": "code",
   "execution_count": 18,
   "metadata": {},
   "outputs": [
    {
     "data": {
      "application/vnd.jupyter.widget-view+json": {
       "model_id": "3974f8225be14c95a98ef677f35258d5",
       "version_major": 2,
       "version_minor": 0
      },
      "text/plain": [
       "QgridWidget(grid_options={'fullWidthRows': True, 'syncColumnCellResize': True, 'forceFitColumns': True, 'defau…"
      ]
     },
     "metadata": {},
     "output_type": "display_data"
    }
   ],
   "source": [
    "df_types = pd.DataFrame({\n",
    "    'N. de capas ocultas' : pd.Series([1,1,1,1,1,2,2,2,2,2]),\n",
    "    'Neuronas por capa' : pd.Series([20,24,28,32,36,20,24,28,32,36])})\n",
    "df_types[\"Eficiencia en validacion\"] = \"\"\n",
    "df_types[\"Intervalo de confianza\"] = \"\"\n",
    "df_types.set_index(['N. de capas ocultas','Neuronas por capa'], inplace=True)\n",
    "#df_types.sort_index(inplace=True)\n",
    "qgrid_widget = qgrid.show_grid(df_types, show_toolbar=False)\n",
    "qgrid_widget"
   ]
  },
  {
   "cell_type": "markdown",
   "metadata": {},
   "source": [
    "Ejecute la siguiente instrucción para dejar guardados en el notebook los resultados de las pruebas."
   ]
  },
  {
   "cell_type": "code",
   "execution_count": 22,
   "metadata": {},
   "outputs": [
    {
     "data": {
      "text/html": [
       "<div>\n",
       "<style scoped>\n",
       "    .dataframe tbody tr th:only-of-type {\n",
       "        vertical-align: middle;\n",
       "    }\n",
       "\n",
       "    .dataframe tbody tr th {\n",
       "        vertical-align: top;\n",
       "    }\n",
       "\n",
       "    .dataframe thead th {\n",
       "        text-align: right;\n",
       "    }\n",
       "</style>\n",
       "<table border=\"1\" class=\"dataframe\">\n",
       "  <thead>\n",
       "    <tr style=\"text-align: right;\">\n",
       "      <th></th>\n",
       "      <th></th>\n",
       "      <th>Eficiencia en validacion</th>\n",
       "      <th>Intervalo de confianza</th>\n",
       "    </tr>\n",
       "    <tr>\n",
       "      <th>N. de capas ocultas</th>\n",
       "      <th>Neuronas por capa</th>\n",
       "      <th></th>\n",
       "      <th></th>\n",
       "    </tr>\n",
       "  </thead>\n",
       "  <tbody>\n",
       "    <tr>\n",
       "      <th rowspan=\"5\" valign=\"top\">1</th>\n",
       "      <th>20</th>\n",
       "      <td>0.9637</td>\n",
       "      <td>0.0267</td>\n",
       "    </tr>\n",
       "    <tr>\n",
       "      <th>24</th>\n",
       "      <td>0.9623</td>\n",
       "      <td>0.0369</td>\n",
       "    </tr>\n",
       "    <tr>\n",
       "      <th>28</th>\n",
       "      <td>0.9637</td>\n",
       "      <td>0.0246</td>\n",
       "    </tr>\n",
       "    <tr>\n",
       "      <th>32</th>\n",
       "      <td>0.9596</td>\n",
       "      <td>0.0293</td>\n",
       "    </tr>\n",
       "    <tr>\n",
       "      <th>36</th>\n",
       "      <td>0.9553</td>\n",
       "      <td>0.0339</td>\n",
       "    </tr>\n",
       "    <tr>\n",
       "      <th rowspan=\"5\" valign=\"top\">2</th>\n",
       "      <th>20</th>\n",
       "      <td>0.9693</td>\n",
       "      <td>0.0225</td>\n",
       "    </tr>\n",
       "    <tr>\n",
       "      <th>24</th>\n",
       "      <td>0.9526</td>\n",
       "      <td>0.0374</td>\n",
       "    </tr>\n",
       "    <tr>\n",
       "      <th>28</th>\n",
       "      <td>0.9512</td>\n",
       "      <td>0.0337</td>\n",
       "    </tr>\n",
       "    <tr>\n",
       "      <th>32</th>\n",
       "      <td>0.9568</td>\n",
       "      <td>0.0349</td>\n",
       "    </tr>\n",
       "    <tr>\n",
       "      <th>36</th>\n",
       "      <td>0.9610</td>\n",
       "      <td>0.0197</td>\n",
       "    </tr>\n",
       "  </tbody>\n",
       "</table>\n",
       "</div>"
      ],
      "text/plain": [
       "                                      Eficiencia en validacion  \\\n",
       "N. de capas ocultas Neuronas por capa                            \n",
       "1                   20                                  0.9637   \n",
       "                    24                                  0.9623   \n",
       "                    28                                  0.9637   \n",
       "                    32                                  0.9596   \n",
       "                    36                                  0.9553   \n",
       "2                   20                                  0.9693   \n",
       "                    24                                  0.9526   \n",
       "                    28                                  0.9512   \n",
       "                    32                                  0.9568   \n",
       "                    36                                  0.9610   \n",
       "\n",
       "                                      Intervalo de confianza  \n",
       "N. de capas ocultas Neuronas por capa                         \n",
       "1                   20                                0.0267  \n",
       "                    24                                0.0369  \n",
       "                    28                                0.0246  \n",
       "                    32                                0.0293  \n",
       "                    36                                0.0339  \n",
       "2                   20                                0.0225  \n",
       "                    24                                0.0374  \n",
       "                    28                                0.0337  \n",
       "                    32                                0.0349  \n",
       "                    36                                0.0197  "
      ]
     },
     "execution_count": 22,
     "metadata": {},
     "output_type": "execute_result"
    }
   ],
   "source": [
    "qgrid_widget.get_changed_df()"
   ]
  },
  {
   "cell_type": "markdown",
   "metadata": {},
   "source": [
    "<b>Responda</b>:\n",
    "\n",
    "4.1 ¿Qué tipo de función de activación usa el modelo en la capa de salida?: \n",
    "R: softmax\n",
    "\n",
    "4.2 ¿Cuántas neuronas en la capa de salida tiene el modelo?¿Por qué debe tener ese número?\n",
    "R: El modelo tiene 4 neuronas en la capa de salida. Debe tener ese número porque el modelo utiliza una función Softmax en la capa de salida, lo que hace que se active la salida que corresponde a la clase a la que pertenece la muestra. Como el problema tiene 4 clases en las que se va a clasificar cada muestra, entonces, dependiendo de cuál clase es representada por la salida que se activa, significa que la muestra pertenece a dicha clase. "
   ]
  }
 ],
 "metadata": {
  "kernelspec": {
   "display_name": "Python 3",
   "language": "python",
   "name": "python3"
  },
  "language_info": {
   "codemirror_mode": {
    "name": "ipython",
    "version": 3
   },
   "file_extension": ".py",
   "mimetype": "text/x-python",
   "name": "python",
   "nbconvert_exporter": "python",
   "pygments_lexer": "ipython3",
   "version": "3.6.7"
  }
 },
 "nbformat": 4,
 "nbformat_minor": 2
}
